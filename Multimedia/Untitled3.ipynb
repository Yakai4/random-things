{
 "cells": [
  {
   "cell_type": "code",
   "execution_count": 1,
   "metadata": {},
   "outputs": [
    {
     "name": "stdout",
     "output_type": "stream",
     "text": [
      "output string:  [0, 1, 2, 3, 4, 5, 6, 7, 2, 11, 6, 6, 3, 12, 3, 18, 5, 21, 5]\n",
      "Decoded string: abcdefsabcefssdfsdsdfdsf\n",
      "\n",
      "output string:  [0, 1, 2, 3, 4, 8, 2, 6, 10, 9, 11, 7, 11, 3]\n",
      "Decoded string: qwertrtewertetrewerewr\n",
      "\n"
     ]
    }
   ],
   "source": [
    "#LZW compression\n",
    "import sys\n",
    "\n",
    "def encode(text):\n",
    "    #text=\"abcdefsabcefssdfsdsdfdsf\"#for test\n",
    "    \n",
    "    mydict = dict()\n",
    "    # prepare the initial mydict \n",
    "    mydict=dict.fromkeys(text)\n",
    "    num = 0\n",
    "    for i in mydict:\n",
    "        mydict[i]=num\n",
    "        num+=1\n",
    "    output = []\n",
    "    # write your encoding code here... \n",
    "    p = ''#prefix\n",
    "    c = ''#character\n",
    "    for ch in text:\n",
    "        c=ch\n",
    "        if (p+c) in mydict:\n",
    "            p=p+c\n",
    "        else:\n",
    "            output.append(mydict[p])#add to current stream output\n",
    "            mydict[p+c]= num#add to dict<-- now valid\n",
    "            num+=1\n",
    "            p=c\n",
    "    if p!='':\n",
    "        output.append(mydict[p])\n",
    "    return output, mydict\n",
    "        \n",
    "def decode(output, mydict):\n",
    "    i = 0\n",
    "    while i < len(output):\n",
    "        print(list(mydict.keys())[list(mydict.values()).index(output[i])], end=\"\")\n",
    "        i = i+1\n",
    "    print('\\n')\n",
    "\n",
    "def dosth(text):\n",
    "    [output, mydict] = encode(text)\n",
    "    print(\"output string: \", output)\n",
    "    print(\"Decoded string: \", end = \"\")\n",
    "    decode(output, mydict)\n",
    "\n",
    "if __name__ == \"__main__\":\n",
    "    if (len(sys.argv) != 2):\n",
    "        exit(\"Usage:(Run with python lzw.py abracadabra)\")\n",
    "    dosth(\"abcdefsabcefssdfsdsdfdsf\")\n",
    "    dosth(\"qwertrtewertetrewerewr\")"
   ]
  },
  {
   "cell_type": "code",
   "execution_count": 3,
   "metadata": {
    "scrolled": true
   },
   "outputs": [
    {
     "name": "stdout",
     "output_type": "stream",
     "text": [
      "Encoded string: <0, a> <0, b> <0, c> <0, d> <0, e> <0, f> <0, s> <1, b> <3, e> <6, s> <7, d> <10, d> <11, f> <4, s> <6, > \n",
      "\n",
      "Decoded string: abcdefsabcefssdfsdsdfdsf\n",
      "\n",
      "Encoded string: <0, q> <0, w> <0, e> <0, r> <0, t> <4, t> <3, w> <3, r> <5, e> <5, r> <7, e> <4, e> <2, r> \n",
      "\n",
      "Decoded string: qwertrtewertetrewerewr\n",
      "\n"
     ]
    }
   ],
   "source": [
    "#LZ78 compression\n",
    "import sys\n",
    "\n",
    "def encode(text):\n",
    "    #text=\"BABAABRRRA\"#for test\n",
    "    #text=\"abcdefsabcefssdfsdsdfdsf\"\n",
    "    mydict = dict()\n",
    "    i = 0\n",
    "    index = 1\n",
    "    Numbers = []\n",
    "    Letters = []\n",
    "    #writing your code to encode text with LZ78\n",
    "    p = ''#prefix\n",
    "    c = ''#character\n",
    "    mydict[p]=0\n",
    "    for ch in text:\n",
    "        c = ch\n",
    "        if (p+c) in mydict:\n",
    "            p=p+c\n",
    "        else:\n",
    "            Numbers.append(mydict[p])#add to current stream output\n",
    "            Letters.append(c)#update Letters\n",
    "            mydict[p+c]= index#add to dict<-- now valid\n",
    "            index+=1\n",
    "            p=''\n",
    "    if p!='':\n",
    "        Numbers.append(mydict[p])\n",
    "        Letters.append('')\n",
    "        \n",
    "    return Numbers, Letters, mydict\n",
    "        \n",
    "def decode(lstNumbers, lstLetters, mydict):\n",
    "    i = 0\n",
    "    while i < len(lstNumbers):\n",
    "        if (lstNumbers[i] != 0):    \n",
    "            print(list(mydict.keys())[list(mydict.values()).index(lstNumbers[i])], end=\"\")\n",
    "        print(lstLetters[i], end=\"\")\n",
    "        i = i+1\n",
    "    print('\\n')\n",
    "\n",
    "def dosth(stringToEncode):\n",
    "    [lstNumbers, lstLetters, mydict] = encode(stringToEncode)\n",
    "    print(\"Encoded string: \", end=\"\")\n",
    "    i = 0\n",
    "    while i < len(lstNumbers):\n",
    "        print (\"<{0}, {1}>\".format(lstNumbers[i], lstLetters[i]), end=\" \")\n",
    "        i = i + 1\n",
    "    print('\\n')\n",
    "    print(\"Decoded string: \", end = \"\")\n",
    "    decode(lstNumbers, lstLetters, mydict)\n",
    "\n",
    "if __name__ == \"__main__\":\n",
    "    if (len(sys.argv) != 2):\n",
    "        exit(\"Usage:(Run with python lz78.py abracadabra)\")\n",
    "    dosth(\"abcdefsabcefssdfsdsdfdsf\")\n",
    "    dosth(\"qwertrtewertetrewerewr\")"
   ]
  },
  {
   "cell_type": "code",
   "execution_count": 23,
   "metadata": {
    "scrolled": true
   },
   "outputs": [
    {
     "name": "stdout",
     "output_type": "stream",
     "text": [
      "open video successfully!\n",
      "success adding!\n",
      "Moviepy - Building video C:\\Users\\zxy\\Desktop\\final.mp4.\n",
      "MoviePy - Writing audio in finalTEMP_MPY_wvf_snd.mp3\n"
     ]
    },
    {
     "name": "stderr",
     "output_type": "stream",
     "text": [
      "                                                                                                                       \r"
     ]
    },
    {
     "name": "stdout",
     "output_type": "stream",
     "text": [
      "MoviePy - Done.\n",
      "Moviepy - Writing video C:\\Users\\zxy\\Desktop\\final.mp4\n",
      "\n"
     ]
    },
    {
     "name": "stderr",
     "output_type": "stream",
     "text": [
      "                                                                                                                       \r"
     ]
    },
    {
     "name": "stdout",
     "output_type": "stream",
     "text": [
      "Moviepy - Done !\n",
      "Moviepy - video ready C:\\Users\\zxy\\Desktop\\final.mp4\n"
     ]
    }
   ],
   "source": [
    "import moviepy\n",
    "from moviepy.video.tools.credits import credits1\n",
    "from moviepy.video.tools.subtitles import SubtitlesClip\n",
    "from moviepy.video.io.VideoFileClip import VideoFileClip\n",
    "from moviepy.editor import *\n",
    "\n",
    "clip1 = VideoFileClip(\"C:\\\\Users\\\\zxy\\\\Desktop\\\\video12.4.mp4\")\n",
    "print(\"open video successfully!\")\n",
    "#add water mask\n",
    "txt_clip = (TextClip(\"2019213743\").set_position(lambda t: (150*t, 50*t)).set_duration(clip1.subclip(0,5).duration))\n",
    "result =  CompositeVideoClip([clip1.subclip(0,5), txt_clip])\n",
    "result.write_videofile(\"C:\\\\Users\\\\zxy\\\\Desktop\\\\subtitle_ver.mp4\",fps=clip1.fps)\n",
    "print(\"success adding!\")\n",
    "\n",
    "#add subtitle\n",
    "myvideo=clip1.subclip(0,5)\n",
    "generator = lambda txt: TextClip(txt, font='Arial', fontsize=24, color='white')\n",
    "subs=[((0,2.5),'mao lao shi'),\n",
    "     ((2.5,5),'shu yi shu er')]\n",
    "#refer to https://duoduokou.com/python/50832077666342316636.html\n",
    "subtitles = SubtitlesClip(subs,generator)\n",
    "final = CompositeVideoClip([myvideo,subtitles.set_pos(('center','center'))])\n",
    "final.write_videofile(\"C:\\\\Users\\\\zxy\\\\Desktop\\\\final.mp4\", fps=clip1.fps)\n",
    "\n",
    "#write audio\n",
    "\n"
   ]
  }
 ],
 "metadata": {
  "kernelspec": {
   "display_name": "Python 3",
   "language": "python",
   "name": "python3"
  },
  "language_info": {
   "codemirror_mode": {
    "name": "ipython",
    "version": 3
   },
   "file_extension": ".py",
   "mimetype": "text/x-python",
   "name": "python",
   "nbconvert_exporter": "python",
   "pygments_lexer": "ipython3",
   "version": "3.7.0"
  }
 },
 "nbformat": 4,
 "nbformat_minor": 2
}
